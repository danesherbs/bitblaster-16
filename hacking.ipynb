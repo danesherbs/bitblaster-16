{
 "cells": [
  {
   "cell_type": "code",
   "execution_count": null,
   "metadata": {},
   "outputs": [],
   "source": [
    "import time\n",
    "import tkinter as tk\n",
    "\n",
    "from computer import Computer, render_screen\n",
    "from memory import ROM32K\n",
    "from utils import int_to_bit_vector, ZERO16\n",
    "from test_computer import _create_random_computer"
   ]
  },
  {
   "cell_type": "code",
   "execution_count": null,
   "metadata": {},
   "outputs": [],
   "source": [
    "instructions = []\n",
    "\n",
    "with open(\"rectangle.hack\", \"r\") as f:\n",
    "    for line in f:\n",
    "        n = int(line, 2)\n",
    "        v = int_to_bit_vector(n, 16)\n",
    "        instructions.append(v)\n",
    "\n",
    "instructions = tuple(instructions)"
   ]
  },
  {
   "cell_type": "code",
   "execution_count": null,
   "metadata": {},
   "outputs": [],
   "source": [
    "tmp_computer = _create_random_computer()\n",
    "\n",
    "new_registers = instructions + tuple(ZERO16 for _ in range(2**15 - len(instructions)))\n",
    "new_rom = ROM32K(new_registers)\n",
    "\n",
    "computer = Computer(\n",
    "    rom=new_rom,\n",
    "    cpu=tmp_computer.cpu,\n",
    "    memory=tmp_computer.memory,\n",
    ")"
   ]
  },
  {
   "cell_type": "code",
   "execution_count": null,
   "metadata": {},
   "outputs": [],
   "source": [
    "root = tk.Tk()\n",
    "canvas = tk.Canvas(root, width=512, height=256)\n",
    "canvas.pack()\n",
    "\n",
    "computer = computer(reset=True)\n",
    "\n",
    "for _ in range(25):\n",
    "    computer = computer(reset=False)\n",
    "    render_screen(root, canvas, computer.memory.screen)\n",
    "    time.sleep(1.0)"
   ]
  }
 ],
 "metadata": {
  "kernelspec": {
   "display_name": "env",
   "language": "python",
   "name": "python3"
  },
  "language_info": {
   "codemirror_mode": {
    "name": "ipython",
    "version": 3
   },
   "file_extension": ".py",
   "mimetype": "text/x-python",
   "name": "python",
   "nbconvert_exporter": "python",
   "pygments_lexer": "ipython3",
   "version": "3.10.12"
  },
  "orig_nbformat": 4
 },
 "nbformat": 4,
 "nbformat_minor": 2
}
