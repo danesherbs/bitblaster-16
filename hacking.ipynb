{
 "cells": [
  {
   "cell_type": "code",
   "execution_count": 1,
   "metadata": {},
   "outputs": [],
   "source": [
    "import tkinter as tk\n",
    "\n",
    "from computer import Computer, render_screen\n",
    "from utils import int_to_bit_vector"
   ]
  },
  {
   "cell_type": "code",
   "execution_count": 2,
   "metadata": {},
   "outputs": [],
   "source": [
    "instructions = []\n",
    "\n",
    "with open(\"programs/rectangle.hack\", \"r\") as f:\n",
    "    for line in f:\n",
    "        n = int(line, 2)\n",
    "        v = int_to_bit_vector(n, 16)\n",
    "        instructions.append(v)\n",
    "\n",
    "instructions = tuple(instructions)"
   ]
  },
  {
   "cell_type": "code",
   "execution_count": 3,
   "metadata": {},
   "outputs": [],
   "source": [
    "computer = Computer.create(instructions)"
   ]
  },
  {
   "cell_type": "code",
   "execution_count": 4,
   "metadata": {},
   "outputs": [
    {
     "name": "stderr",
     "output_type": "stream",
     "text": [
      "2023-08-28 21:53:53.570 Python[13850:274336] ApplePersistenceIgnoreState: Existing state will not be touched. New state will be written to /var/folders/2d/pn993vt939v9p3rbkwpz26jr0000gn/T/org.python.python.savedState\n"
     ]
    }
   ],
   "source": [
    "root = tk.Tk()\n",
    "canvas = tk.Canvas(root, width=512, height=256)\n",
    "canvas.pack()\n",
    "\n",
    "root.title(\"🔥 BitBlaster 16 🔥\")\n",
    "\n",
    "computer = computer(reset=True)\n",
    "\n",
    "for _ in range(len(instructions)):\n",
    "    computer = computer(reset=False)\n",
    "    render_screen(root, canvas, computer.memory.screen)\n"
   ]
  }
 ],
 "metadata": {
  "kernelspec": {
   "display_name": "env",
   "language": "python",
   "name": "python3"
  },
  "language_info": {
   "codemirror_mode": {
    "name": "ipython",
    "version": 3
   },
   "file_extension": ".py",
   "mimetype": "text/x-python",
   "name": "python",
   "nbconvert_exporter": "python",
   "pygments_lexer": "ipython3",
   "version": "3.10.12"
  },
  "orig_nbformat": 4
 },
 "nbformat": 4,
 "nbformat_minor": 2
}
